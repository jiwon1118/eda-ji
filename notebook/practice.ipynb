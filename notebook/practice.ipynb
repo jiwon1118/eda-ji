{
 "cells": [
  {
   "cell_type": "markdown",
   "id": "e92f53c5-017b-4c75-973d-60dc7b280027",
   "metadata": {},
   "source": [
    "## 내장함수 연습"
   ]
  },
  {
   "cell_type": "code",
   "execution_count": 1,
   "id": "0ca0c471-4d1b-4703-a8ea-6b1d28896d5b",
   "metadata": {},
   "outputs": [
    {
     "data": {
      "text/plain": [
       "10"
      ]
     },
     "execution_count": 1,
     "metadata": {},
     "output_type": "execute_result"
    }
   ],
   "source": [
    "t = (1,2,3,4)\n",
    "\n",
    "sum(t)"
   ]
  },
  {
   "cell_type": "code",
   "execution_count": 2,
   "id": "e32916bb-efea-49b6-98c9-2d06272b12a3",
   "metadata": {},
   "outputs": [
    {
     "data": {
      "text/plain": [
       "tuple"
      ]
     },
     "execution_count": 2,
     "metadata": {},
     "output_type": "execute_result"
    }
   ],
   "source": [
    "type(t)"
   ]
  },
  {
   "cell_type": "code",
   "execution_count": 1,
   "id": "6903b36d-807c-479a-aadb-d31e540512bd",
   "metadata": {},
   "outputs": [],
   "source": [
    "from president_speech.db.parquet_interpreter import read_parquet, get_parquet_full_path"
   ]
  },
  {
   "cell_type": "code",
   "execution_count": 3,
   "id": "6fe4bf79-e044-4f62-ac2d-0a80a629983e",
   "metadata": {},
   "outputs": [],
   "source": [
    "df = read_parquet()"
   ]
  },
  {
   "cell_type": "code",
   "execution_count": 4,
   "id": "980d6628-05c4-4571-af6a-a0116e6db4e7",
   "metadata": {},
   "outputs": [
    {
     "data": {
      "text/plain": [
       "pandas.core.frame.DataFrame"
      ]
     },
     "execution_count": 4,
     "metadata": {},
     "output_type": "execute_result"
    }
   ],
   "source": [
    "type(df)"
   ]
  },
  {
   "cell_type": "code",
   "execution_count": 5,
   "id": "79815bc4-88d9-4685-876a-2f51919c5e7f",
   "metadata": {},
   "outputs": [
    {
     "data": {
      "text/plain": [
       "'/home/jiwon/code/eda-ji/.venv/lib/python3.10/site-packages/president_speech/db/parquet/president_speech_ko.parquet'"
      ]
     },
     "execution_count": 5,
     "metadata": {},
     "output_type": "execute_result"
    }
   ],
   "source": [
    "get_parquet_full_path()"
   ]
  },
  {
   "cell_type": "code",
   "execution_count": 6,
   "id": "a51b6a87-36e5-4b72-a5bf-9d5d3779c891",
   "metadata": {},
   "outputs": [
    {
     "data": {
      "text/plain": [
       "8771"
      ]
     },
     "execution_count": 6,
     "metadata": {},
     "output_type": "execute_result"
    }
   ],
   "source": [
    "len(df)"
   ]
  },
  {
   "cell_type": "code",
   "execution_count": null,
   "id": "c41d0942-5784-4280-b715-ad9f0fec7684",
   "metadata": {},
   "outputs": [],
   "source": [
    "from president_speech.db.parquet_interpreter import get_parquet_full_path\n",
    "import pandas as pd\n",
    "\n",
    "\n",
    "def group_by_count():\n",
    "    kw = \"올림픽\"\n",
    "    data_path = get_parquet_full_path()\n",
    "    df = pd.read_parquet(data_path)\n",
    "    fdf = df[df['speech_text'].str.contains(\"올림픽\", regex=False)] # 올림픽 단어가 들어간 연설 df 만들\n",
    "    gdf = fdf.groupby(\"president\").size().reset_index(name=\"count\")  # 대통령 별 개수 세서 그룹화 하기\n",
    "    sdf = gdf.sort_values(by='count', ascending=False).reset_index(drop=True)  # 정렬 하기\n",
    "    print(sdf.to_string(index=False))"
   ]
  },
  {
   "cell_type": "code",
   "execution_count": 7,
   "id": "8d283238-e39a-4767-a29b-61f20eeb5091",
   "metadata": {},
   "outputs": [],
   "source": [
    "from president_speech.db.parquet_interpreter import get_parquet_full_path\n",
    "import pandas as pd\n",
    "import typer"
   ]
  },
  {
   "cell_type": "code",
   "execution_count": 8,
   "id": "ee11ea04-85a6-4572-b864-dc484384feb4",
   "metadata": {},
   "outputs": [],
   "source": [
    "def group_by_count(keyword, str):\n",
    "    # TODO: ascendig, 출력 row size  - ascendig = True 면 올림차순 정렬 / gdf.head()를 이용하면 출력 row size 변경 가능\n",
    "    # pytest 코드를 만들어 보기\n",
    "    data_path = get_parquet_full_path()\n",
    "    df = pd.read_parquet(data_path)\n",
    "    fdf = df[df['speech_text'].str.contains(keyword, regex=False)] # 입력한 단어가 들어간 연설 df 만들\n",
    "    gdf = fdf.groupby(\"president\").size().reset_index(name=\"count\")  # 대통령별 개수 세서 그룹화 하기\n",
    "    sdf = gdf.sort_values(by='count', ascending=True).reset_index(drop=True)  # 내림차순 정렬 하기\n",
    "    print(sdf.to_string(index=False))"
   ]
  },
  {
   "cell_type": "code",
   "execution_count": 9,
   "id": "c3acc85a-2684-4461-b5f5-21edf2c55ad9",
   "metadata": {},
   "outputs": [],
   "source": [
    "def entry_point():\n",
    "    typer.run(group_by_count)                      "
   ]
  }
 ],
 "metadata": {
  "kernelspec": {
   "display_name": "Python 3 (ipykernel)",
   "language": "python",
   "name": "python3"
  },
  "language_info": {
   "codemirror_mode": {
    "name": "ipython",
    "version": 3
   },
   "file_extension": ".py",
   "mimetype": "text/x-python",
   "name": "python",
   "nbconvert_exporter": "python",
   "pygments_lexer": "ipython3",
   "version": "3.10.12"
  }
 },
 "nbformat": 4,
 "nbformat_minor": 5
}
